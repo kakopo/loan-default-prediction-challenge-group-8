{
  "cells": [
    {
      "cell_type": "code",
      "source": [
        "from google.colab import drive\n",
        "drive.mount('/content/drive')"
      ],
      "metadata": {
        "id": "Z3kaGvIxp494",
        "outputId": "c89f86eb-2453-415c-c6ef-d36e673efeba",
        "colab": {
          "base_uri": "https://localhost:8080/"
        }
      },
      "execution_count": 1,
      "outputs": [
        {
          "output_type": "stream",
          "name": "stdout",
          "text": [
            "Mounted at /content/drive\n"
          ]
        }
      ]
    },
    {
      "cell_type": "code",
      "execution_count": 2,
      "metadata": {
        "id": "An0X0iLjzo6o"
      },
      "outputs": [],
      "source": [
        "import pandas as pd\n",
        "import matplotlib.pyplot as plt\n",
        "import seaborn as sns\n",
        "import numpy as np\n",
        "from sklearn.model_selection import train_test_split\n",
        "from sklearn.preprocessing import StandardScaler\n",
        "from sklearn.metrics import confusion_matrix, accuracy_score\n",
        "from sklearn.metrics import classification_report\n",
        "import joblib\n"
      ]
    },
    {
      "cell_type": "code",
      "source": [
        "data = pd.read_csv('/content/drive/MyDrive/Classroom/loan_data/testdemographics.csv')\n",
        "print(data.head())"
      ],
      "metadata": {
        "id": "ubA0LRaQrF4A",
        "outputId": "0f3825e5-e4e8-46eb-eb80-db0ce24aa602",
        "colab": {
          "base_uri": "https://localhost:8080/"
        }
      },
      "execution_count": 7,
      "outputs": [
        {
          "output_type": "stream",
          "name": "stdout",
          "text": [
            "                         customerid                   birthdate  \\\n",
            "0  8a858f305c8dd672015c93b1db645db4  1976-08-28 00:00:00.000000   \n",
            "1  8a858f085a477386015a47fb049e49ca  1978-06-23 00:00:00.000000   \n",
            "2  8a858e6f5cd5e874015cd6f5634c39ad  1984-04-04 00:00:00.000000   \n",
            "3  8a858e9d5bfd7037015bfdab79f61305  1983-05-28 00:00:00.000000   \n",
            "4  8a858fde56eb02280156eb6dafc128ac  1982-03-29 00:00:00.000000   \n",
            "\n",
            "  bank_account_type  longitude_gps  latitude_gps bank_name_clients  \\\n",
            "0           Savings       5.296628      7.593965     Heritage Bank   \n",
            "1           Savings       3.294513      6.596602               UBA   \n",
            "2           Savings       8.501912      7.729364        First Bank   \n",
            "3           Savings       3.318904      6.681595               UBA   \n",
            "4           Savings       6.354624      4.949031        First Bank   \n",
            "\n",
            "  bank_branch_clients employment_status_clients level_of_education_clients  \n",
            "0                 NaN                 Permanent                        NaN  \n",
            "1                 NaN                 Permanent                        NaN  \n",
            "2                 NaN                 Permanent                        NaN  \n",
            "3                 NaN                 Permanent                        NaN  \n",
            "4                 NaN             Self-Employed                        NaN  \n"
          ]
        }
      ]
    },
    {
      "cell_type": "code",
      "source": [
        "data_one = pd.read_csv('/content/drive/MyDrive/Classroom/loan_data/testperf.csv')\n",
        "print(data_one.head())"
      ],
      "metadata": {
        "id": "VHEkM9iX-jNt",
        "outputId": "200c4047-9f5f-4661-d496-4319cfe99e07",
        "colab": {
          "base_uri": "https://localhost:8080/"
        }
      },
      "execution_count": 8,
      "outputs": [
        {
          "output_type": "stream",
          "name": "stdout",
          "text": [
            "                         customerid  systemloanid  loannumber approveddate  \\\n",
            "0  8a858899538ddb8e015390510b321f08     301998974           4      40:48.0   \n",
            "1  8a858959537a097401537a4e316e25f7     301963615          10      43:40.0   \n",
            "2  8a8589c253ace09b0153af6ba58f1f31     301982236           6      15:11.0   \n",
            "3  8a858e095aae82b7015aae86ca1e030b     301971730           8      00:54.0   \n",
            "4  8a858e225a28c713015a30db5c48383d     301959177           4      04:33.0   \n",
            "\n",
            "  creationdate  loanamount  totaldue  termdays referredby  \n",
            "0      39:35.0       10000   12250.0        30        NaN  \n",
            "1      42:34.0       40000   44000.0        30        NaN  \n",
            "2      15:04.0       20000   24500.0        30        NaN  \n",
            "3      00:49.0       30000   34500.0        30        NaN  \n",
            "4      04:27.0       20000   24500.0        30        NaN  \n"
          ]
        }
      ]
    },
    {
      "cell_type": "code",
      "source": [
        "data_two = pd.read_csv('/content/drive/MyDrive/Classroom/loan_data/testprevloans.csv')\n",
        "print(data_two.head())"
      ],
      "metadata": {
        "id": "0tFrVPbf-ldS",
        "outputId": "5b1cedf3-f55a-463e-c5fe-1b0e51571bef",
        "colab": {
          "base_uri": "https://localhost:8080/"
        }
      },
      "execution_count": 9,
      "outputs": [
        {
          "output_type": "stream",
          "name": "stdout",
          "text": [
            "                         customerid  systemloanid  loannumber  \\\n",
            "0  8a858899538ddb8e015390510b321f08     301621635           3   \n",
            "1  8a858959537a097401537a4e316e25f7     301810201           5   \n",
            "2  8a858959537a097401537a4e316e25f7     301831255           6   \n",
            "3  8a8589c253ace09b0153af6ba58f1f31     301627292           3   \n",
            "4  8a8589c253ace09b0153af6ba58f1f31     301621095           2   \n",
            "\n",
            "                 approveddate                creationdate  loanamount  \\\n",
            "0  2016-05-17 10:37:00.000000  2016-05-17 09:36:55.000000     10000.0   \n",
            "1  2017-02-04 21:28:59.000000  2017-02-04 20:28:52.000000     30000.0   \n",
            "2  2017-03-04 10:28:22.000000  2017-03-04 09:28:16.000000     30000.0   \n",
            "3  2016-06-02 14:27:14.000000  2016-06-02 13:27:08.000000     10000.0   \n",
            "4  2016-05-16 09:13:12.000000  2016-05-16 08:13:04.000000     10000.0   \n",
            "\n",
            "   totaldue  termdays                  closeddate referredby  \\\n",
            "0   13000.0        30  2016-06-17 00:04:15.000000        NaN   \n",
            "1   36800.0        60  2017-03-02 16:22:58.000000        NaN   \n",
            "2   34400.0        30  2017-04-02 00:44:24.000000        NaN   \n",
            "3   13000.0        30  2016-07-04 11:34:04.000000        NaN   \n",
            "4   11500.0        15  2016-06-02 00:02:58.000000        NaN   \n",
            "\n",
            "                 firstduedate             firstrepaiddate  \n",
            "0  2016-06-16 00:00:00.000000  2016-06-16 15:44:08.000000  \n",
            "1  2017-03-06 00:00:00.000000  2017-03-02 16:07:47.000000  \n",
            "2  2017-04-03 00:00:00.000000  2017-04-01 21:29:46.000000  \n",
            "3  2016-07-04 00:00:00.000000  2016-07-04 11:19:01.000000  \n",
            "4  2016-05-31 00:00:00.000000  2016-06-01 15:22:34.000000  \n"
          ]
        }
      ]
    }
  ],
  "metadata": {
    "language_info": {
      "name": "python"
    },
    "colab": {
      "provenance": []
    },
    "kernelspec": {
      "name": "python3",
      "display_name": "Python 3"
    }
  },
  "nbformat": 4,
  "nbformat_minor": 0
}