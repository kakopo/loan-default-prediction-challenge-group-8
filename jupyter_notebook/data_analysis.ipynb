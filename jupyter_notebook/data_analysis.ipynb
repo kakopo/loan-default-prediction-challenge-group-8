{
  "cells": [
    {
      "cell_type": "code",
      "source": [
        "from google.colab import drive\n",
        "drive.mount('/content/drive')"
      ],
      "metadata": {
        "colab": {
          "base_uri": "https://localhost:8080/"
        },
        "id": "Z3kaGvIxp494",
        "outputId": "f013839c-29f0-41b2-d100-57651db63f6a"
      },
      "execution_count": 1,
      "outputs": [
        {
          "output_type": "stream",
          "name": "stdout",
          "text": [
            "Mounted at /content/drive\n"
          ]
        }
      ]
    },
    {
      "cell_type": "code",
      "execution_count": 2,
      "metadata": {
        "id": "An0X0iLjzo6o"
      },
      "outputs": [],
      "source": [
        "import pandas as pd\n",
        "import matplotlib.pyplot as plt\n",
        "import seaborn as sns\n",
        "import numpy as np\n",
        "from sklearn.model_selection import train_test_split\n",
        "from sklearn.preprocessing import StandardScaler\n",
        "from sklearn.metrics import confusion_matrix, accuracy_score\n",
        "from sklearn.metrics import classification_report\n",
        "import joblib\n"
      ]
    },
    {
      "cell_type": "code",
      "source": [
        "data = pd.read_csv('/content/drive/MyDrive/Classroom/loan_data/traindemographics.csv')\n",
        "print(data.head())"
      ],
      "metadata": {
        "colab": {
          "base_uri": "https://localhost:8080/"
        },
        "id": "ubA0LRaQrF4A",
        "outputId": "da235654-ac4e-443d-f47f-2f542ae8caf7"
      },
      "execution_count": 3,
      "outputs": [
        {
          "output_type": "stream",
          "name": "stdout",
          "text": [
            "                         customerid                   birthdate  \\\n",
            "0  8a858e135cb22031015cbafc76964ebd  1973-10-10 00:00:00.000000   \n",
            "1  8a858e275c7ea5ec015c82482d7c3996  1986-01-21 00:00:00.000000   \n",
            "2  8a858e5b5bd99460015bdc95cd485634  1987-04-01 00:00:00.000000   \n",
            "3  8a858efd5ca70688015cabd1f1e94b55  1991-07-19 00:00:00.000000   \n",
            "4  8a858e785acd3412015acd48f4920d04  1982-11-22 00:00:00.000000   \n",
            "\n",
            "  bank_account_type  longitude_gps  latitude_gps bank_name_clients  \\\n",
            "0           Savings       3.319219      6.528604           GT Bank   \n",
            "1           Savings       3.325598      7.119403     Sterling Bank   \n",
            "2           Savings       5.746100      5.563174     Fidelity Bank   \n",
            "3           Savings       3.362850      6.642485           GT Bank   \n",
            "4           Savings       8.455332     11.971410           GT Bank   \n",
            "\n",
            "  bank_branch_clients employment_status_clients level_of_education_clients  \n",
            "0                 NaN                       NaN                        NaN  \n",
            "1                 NaN                 Permanent                        NaN  \n",
            "2                 NaN                       NaN                        NaN  \n",
            "3                 NaN                 Permanent                        NaN  \n",
            "4                 NaN                 Permanent                        NaN  \n"
          ]
        }
      ]
    },
    {
      "cell_type": "code",
      "source": [
        "data_one = pd.read_csv('/content/drive/MyDrive/Classroom/loan_data/trainperf.csv')\n",
        "print(data_one.head())"
      ],
      "metadata": {
        "colab": {
          "base_uri": "https://localhost:8080/"
        },
        "id": "VHEkM9iX-jNt",
        "outputId": "2c18c658-05a4-4c92-c658-a3a3575c168e"
      },
      "execution_count": 4,
      "outputs": [
        {
          "output_type": "stream",
          "name": "stdout",
          "text": [
            "                         customerid  systemloanid  loannumber  \\\n",
            "0  8a2a81a74ce8c05d014cfb32a0da1049     301994762          12   \n",
            "1  8a85886e54beabf90154c0a29ae757c0     301965204           2   \n",
            "2  8a8588f35438fe12015444567666018e     301966580           7   \n",
            "3  8a85890754145ace015429211b513e16     301999343           3   \n",
            "4  8a858970548359cc0154883481981866     301962360           9   \n",
            "\n",
            "                 approveddate                creationdate  loanamount  \\\n",
            "0  2017-07-25 08:22:56.000000  2017-07-25 07:22:47.000000     30000.0   \n",
            "1  2017-07-05 17:04:41.000000  2017-07-05 16:04:18.000000     15000.0   \n",
            "2  2017-07-06 14:52:57.000000  2017-07-06 13:52:51.000000     20000.0   \n",
            "3  2017-07-27 19:00:41.000000  2017-07-27 18:00:35.000000     10000.0   \n",
            "4  2017-07-03 23:42:45.000000  2017-07-03 22:42:39.000000     40000.0   \n",
            "\n",
            "   totaldue  termdays referredby good_bad_flag  \n",
            "0   34500.0        30        NaN          Good  \n",
            "1   17250.0        30        NaN          Good  \n",
            "2   22250.0        15        NaN          Good  \n",
            "3   11500.0        15        NaN          Good  \n",
            "4   44000.0        30        NaN          Good  \n"
          ]
        }
      ]
    },
    {
      "cell_type": "code",
      "source": [
        "data_two = pd.read_csv('/content/drive/MyDrive/Classroom/loan_data/trainprevloans.csv')\n",
        "print(data_two.head())"
      ],
      "metadata": {
        "colab": {
          "base_uri": "https://localhost:8080/"
        },
        "id": "0tFrVPbf-ldS",
        "outputId": "2814d9f5-4c1a-4004-be9a-92a251b40f39"
      },
      "execution_count": 5,
      "outputs": [
        {
          "output_type": "stream",
          "name": "stdout",
          "text": [
            "                         customerid  systemloanid  loannumber  \\\n",
            "0  8a2a81a74ce8c05d014cfb32a0da1049     301682320           2   \n",
            "1  8a2a81a74ce8c05d014cfb32a0da1049     301883808           9   \n",
            "2  8a2a81a74ce8c05d014cfb32a0da1049     301831714           8   \n",
            "3  8a8588f35438fe12015444567666018e     301861541           5   \n",
            "4  8a85890754145ace015429211b513e16     301941754           2   \n",
            "\n",
            "                 approveddate                creationdate  loanamount  \\\n",
            "0  2016-08-15 18:22:40.000000  2016-08-15 17:22:32.000000     10000.0   \n",
            "1  2017-04-28 18:39:07.000000  2017-04-28 17:38:53.000000     10000.0   \n",
            "2  2017-03-05 10:56:25.000000  2017-03-05 09:56:19.000000     20000.0   \n",
            "3  2017-04-09 18:25:55.000000  2017-04-09 17:25:42.000000     10000.0   \n",
            "4  2017-06-17 09:29:57.000000  2017-06-17 08:29:50.000000     10000.0   \n",
            "\n",
            "   totaldue  termdays                  closeddate referredby  \\\n",
            "0   13000.0        30  2016-09-01 16:06:48.000000        NaN   \n",
            "1   13000.0        30  2017-05-28 14:44:49.000000        NaN   \n",
            "2   23800.0        30  2017-04-26 22:18:56.000000        NaN   \n",
            "3   11500.0        15  2017-04-24 01:35:52.000000        NaN   \n",
            "4   11500.0        15  2017-07-14 21:18:43.000000        NaN   \n",
            "\n",
            "                 firstduedate             firstrepaiddate  \n",
            "0  2016-09-14 00:00:00.000000  2016-09-01 15:51:43.000000  \n",
            "1  2017-05-30 00:00:00.000000  2017-05-26 00:00:00.000000  \n",
            "2  2017-04-04 00:00:00.000000  2017-04-26 22:03:47.000000  \n",
            "3  2017-04-24 00:00:00.000000  2017-04-24 00:48:43.000000  \n",
            "4  2017-07-03 00:00:00.000000  2017-07-14 21:08:35.000000  \n"
          ]
        }
      ]
    },
    {
      "cell_type": "code",
      "source": [
        "print(data.tail())"
      ],
      "metadata": {
        "id": "_sA_FM4AAh_U",
        "outputId": "e9df6798-0261-4805-a32e-13eb53df28e6",
        "colab": {
          "base_uri": "https://localhost:8080/"
        }
      },
      "execution_count": 6,
      "outputs": [
        {
          "output_type": "stream",
          "name": "stdout",
          "text": [
            "                            customerid                   birthdate  \\\n",
            "4341  8a858f155554552501555588ca2b3b40  1985-12-13 00:00:00.000000   \n",
            "4342  8a858fc65cf978f4015cf97cee3a02ce  1982-07-01 00:00:00.000000   \n",
            "4343  8a858f4f5b66de3a015b66fc83c61902  1989-09-26 00:00:00.000000   \n",
            "4344  8aaae7a74400b28201441c8b62514150  1985-09-06 00:00:00.000000   \n",
            "4345  8a85896653e2e18b0153e69c1b90265c  1975-06-05 00:00:00.000000   \n",
            "\n",
            "     bank_account_type  longitude_gps  latitude_gps bank_name_clients  \\\n",
            "4341             Other       3.236753      7.030168      Stanbic IBTC   \n",
            "4342           Savings       7.013750      4.875662           GT Bank   \n",
            "4343           Savings       6.295530      7.092508           GT Bank   \n",
            "4344           Savings       3.354206      6.539070           GT Bank   \n",
            "4345           Savings       6.661014      7.472700               UBA   \n",
            "\n",
            "     bank_branch_clients employment_status_clients level_of_education_clients  \n",
            "4341                 NaN                 Permanent                   Graduate  \n",
            "4342                 NaN                       NaN                        NaN  \n",
            "4343                 NaN                 Permanent                        NaN  \n",
            "4344         HEAD OFFICE                 Permanent                    Primary  \n",
            "4345                 NaN                 Permanent                        NaN  \n"
          ]
        }
      ]
    },
    {
      "cell_type": "code",
      "source": [
        "data.dtypes"
      ],
      "metadata": {
        "id": "-QlG08uKC3su",
        "outputId": "1fb96336-e2fb-496e-9ebf-b65ebe6b93f8",
        "colab": {
          "base_uri": "https://localhost:8080/"
        }
      },
      "execution_count": 7,
      "outputs": [
        {
          "output_type": "execute_result",
          "data": {
            "text/plain": [
              "customerid                     object\n",
              "birthdate                      object\n",
              "bank_account_type              object\n",
              "longitude_gps                 float64\n",
              "latitude_gps                  float64\n",
              "bank_name_clients              object\n",
              "bank_branch_clients            object\n",
              "employment_status_clients      object\n",
              "level_of_education_clients     object\n",
              "dtype: object"
            ]
          },
          "metadata": {},
          "execution_count": 7
        }
      ]
    },
    {
      "cell_type": "code",
      "source": [
        "# data.info"
      ],
      "metadata": {
        "id": "VtLcZ7S1DCsg"
      },
      "execution_count": 8,
      "outputs": []
    },
    {
      "cell_type": "code",
      "source": [
        "data.shape"
      ],
      "metadata": {
        "id": "zEc-jDS-D8s2",
        "outputId": "ce489530-1c5e-4a95-a3b3-01bcbc133382",
        "colab": {
          "base_uri": "https://localhost:8080/"
        }
      },
      "execution_count": 9,
      "outputs": [
        {
          "output_type": "execute_result",
          "data": {
            "text/plain": [
              "(4346, 9)"
            ]
          },
          "metadata": {},
          "execution_count": 9
        }
      ]
    },
    {
      "cell_type": "code",
      "source": [
        "data.isnull().sum()"
      ],
      "metadata": {
        "id": "1q3xn-qhEHtj",
        "outputId": "4dca8434-828f-418e-9f8c-b85b4fe873e4",
        "colab": {
          "base_uri": "https://localhost:8080/"
        }
      },
      "execution_count": 10,
      "outputs": [
        {
          "output_type": "execute_result",
          "data": {
            "text/plain": [
              "customerid                       0\n",
              "birthdate                        0\n",
              "bank_account_type                0\n",
              "longitude_gps                    0\n",
              "latitude_gps                     0\n",
              "bank_name_clients                0\n",
              "bank_branch_clients           4295\n",
              "employment_status_clients      648\n",
              "level_of_education_clients    3759\n",
              "dtype: int64"
            ]
          },
          "metadata": {},
          "execution_count": 10
        }
      ]
    },
    {
      "cell_type": "code",
      "source": [
        "data_dup = data.duplicated().any()\n",
        "data_dup"
      ],
      "metadata": {
        "id": "JWYTj4_fHV2r",
        "outputId": "444ab61a-69f8-4d98-c466-926519817fe7",
        "colab": {
          "base_uri": "https://localhost:8080/"
        }
      },
      "execution_count": 11,
      "outputs": [
        {
          "output_type": "execute_result",
          "data": {
            "text/plain": [
              "True"
            ]
          },
          "metadata": {},
          "execution_count": 11
        }
      ]
    },
    {
      "cell_type": "code",
      "source": [
        "dup_count = data.duplicated().sum()\n",
        "dup_count"
      ],
      "metadata": {
        "id": "AyuC2YIvIJjB",
        "outputId": "7bef533d-8baf-4252-c8e8-c8fab25212bd",
        "colab": {
          "base_uri": "https://localhost:8080/"
        }
      },
      "execution_count": 12,
      "outputs": [
        {
          "output_type": "execute_result",
          "data": {
            "text/plain": [
              "12"
            ]
          },
          "metadata": {},
          "execution_count": 12
        }
      ]
    },
    {
      "cell_type": "code",
      "source": [
        "data = data.drop_duplicates()"
      ],
      "metadata": {
        "id": "nXIHr1JuIRRP"
      },
      "execution_count": 13,
      "outputs": []
    },
    {
      "cell_type": "code",
      "source": [
        "data.shape"
      ],
      "metadata": {
        "id": "1OWc32_1IXA3",
        "outputId": "f369ab59-02ae-4683-b54d-60ae171ad7b2",
        "colab": {
          "base_uri": "https://localhost:8080/"
        }
      },
      "execution_count": 14,
      "outputs": [
        {
          "output_type": "execute_result",
          "data": {
            "text/plain": [
              "(4334, 9)"
            ]
          },
          "metadata": {},
          "execution_count": 14
        }
      ]
    },
    {
      "cell_type": "code",
      "source": [
        "dup_count = data.duplicated().sum()"
      ],
      "metadata": {
        "id": "MYETpmeEIcRL"
      },
      "execution_count": 15,
      "outputs": []
    },
    {
      "cell_type": "code",
      "source": [
        "data = data.drop(columns=['bank_branch_clients'])"
      ],
      "metadata": {
        "id": "D4Umh9RHIjBt"
      },
      "execution_count": 16,
      "outputs": []
    },
    {
      "cell_type": "code",
      "source": [
        "data.shape"
      ],
      "metadata": {
        "id": "9hJVS1v9I6LT",
        "outputId": "b8518099-9b29-435a-9d3a-cbdc914766e5",
        "colab": {
          "base_uri": "https://localhost:8080/"
        }
      },
      "execution_count": 17,
      "outputs": [
        {
          "output_type": "execute_result",
          "data": {
            "text/plain": [
              "(4334, 8)"
            ]
          },
          "metadata": {},
          "execution_count": 17
        }
      ]
    },
    {
      "cell_type": "code",
      "source": [
        "print(data.head())"
      ],
      "metadata": {
        "id": "7Z3fcMoaJnw_",
        "outputId": "cf4eaec5-b6db-40d1-b574-338b13e791cd",
        "colab": {
          "base_uri": "https://localhost:8080/"
        }
      },
      "execution_count": 18,
      "outputs": [
        {
          "output_type": "stream",
          "name": "stdout",
          "text": [
            "                         customerid                   birthdate  \\\n",
            "0  8a858e135cb22031015cbafc76964ebd  1973-10-10 00:00:00.000000   \n",
            "1  8a858e275c7ea5ec015c82482d7c3996  1986-01-21 00:00:00.000000   \n",
            "2  8a858e5b5bd99460015bdc95cd485634  1987-04-01 00:00:00.000000   \n",
            "3  8a858efd5ca70688015cabd1f1e94b55  1991-07-19 00:00:00.000000   \n",
            "4  8a858e785acd3412015acd48f4920d04  1982-11-22 00:00:00.000000   \n",
            "\n",
            "  bank_account_type  longitude_gps  latitude_gps bank_name_clients  \\\n",
            "0           Savings       3.319219      6.528604           GT Bank   \n",
            "1           Savings       3.325598      7.119403     Sterling Bank   \n",
            "2           Savings       5.746100      5.563174     Fidelity Bank   \n",
            "3           Savings       3.362850      6.642485           GT Bank   \n",
            "4           Savings       8.455332     11.971410           GT Bank   \n",
            "\n",
            "  employment_status_clients level_of_education_clients  \n",
            "0                       NaN                        NaN  \n",
            "1                 Permanent                        NaN  \n",
            "2                       NaN                        NaN  \n",
            "3                 Permanent                        NaN  \n",
            "4                 Permanent                        NaN  \n"
          ]
        }
      ]
    },
    {
      "cell_type": "code",
      "source": [
        "arr1 = data['customerid'].to_numpy()\n",
        "arr2 = data_two['customerid'].to_numpy()"
      ],
      "metadata": {
        "id": "W73x7wn2DcZN"
      },
      "execution_count": 19,
      "outputs": []
    },
    {
      "cell_type": "code",
      "source": [
        "intersection = np.intersect1d(arr1, arr2)"
      ],
      "metadata": {
        "id": "R3TyOT_ZEN5L"
      },
      "execution_count": 20,
      "outputs": []
    },
    {
      "cell_type": "code",
      "source": [
        "print(intersection)"
      ],
      "metadata": {
        "id": "4E9Y3u5QEdoY",
        "outputId": "fa040b67-9e33-4d5c-83f0-15324ffbb36f",
        "colab": {
          "base_uri": "https://localhost:8080/"
        }
      },
      "execution_count": 21,
      "outputs": [
        {
          "output_type": "stream",
          "name": "stdout",
          "text": [
            "['8a1088a0484472eb01484669e3ce4e0b' '8a1a1e7e4f707f8b014f797718316cad'\n",
            " '8a1a32fc49b632520149c3b8fdf85139' ... '8a858fff5a36fe68015a37f8550a02a2'\n",
            " '8a858fff5a36fe68015a3b8dcb8a3843' '8a858fff5c79144c015c7bdbfc086ce1']\n"
          ]
        }
      ]
    }
  ],
  "metadata": {
    "language_info": {
      "name": "python"
    },
    "colab": {
      "provenance": []
    },
    "kernelspec": {
      "name": "python3",
      "display_name": "Python 3"
    }
  },
  "nbformat": 4,
  "nbformat_minor": 0
}