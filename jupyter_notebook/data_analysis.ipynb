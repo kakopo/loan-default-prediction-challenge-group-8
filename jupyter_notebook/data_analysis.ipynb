{
  "cells": [
    {
      "cell_type": "code",
      "source": [
        "from google.colab import drive\n",
        "drive.mount('/content/drive')"
      ],
      "metadata": {
        "colab": {
          "base_uri": "https://localhost:8080/"
        },
        "id": "Z3kaGvIxp494",
        "outputId": "34bb938b-b5c7-4610-da29-9f0aae09966c"
      },
      "execution_count": 2,
      "outputs": [
        {
          "output_type": "stream",
          "name": "stdout",
          "text": [
            "Mounted at /content/drive\n"
          ]
        }
      ]
    },
    {
      "cell_type": "code",
      "execution_count": 3,
      "metadata": {
        "id": "An0X0iLjzo6o"
      },
      "outputs": [],
      "source": [
        "import pandas as pd\n",
        "import matplotlib.pyplot as plt\n",
        "import seaborn as sns\n",
        "import numpy as np\n",
        "from sklearn.model_selection import train_test_split\n",
        "from sklearn.preprocessing import StandardScaler\n",
        "from sklearn.metrics import confusion_matrix, accuracy_score\n",
        "from sklearn.metrics import classification_report\n",
        "import joblib\n"
      ]
    },
    {
      "cell_type": "code",
      "source": [
        "data = pd.read_csv('/content/drive/MyDrive/Classroom/loan_data/testdemographics.csv')\n",
        "print(data.head())"
      ],
      "metadata": {
        "colab": {
          "base_uri": "https://localhost:8080/"
        },
        "id": "ubA0LRaQrF4A",
        "outputId": "3b41468a-b20d-4afd-f48d-a9f2c83bdc36"
      },
      "execution_count": 4,
      "outputs": [
        {
          "output_type": "stream",
          "name": "stdout",
          "text": [
            "                         customerid                   birthdate  \\\n",
            "0  8a858f305c8dd672015c93b1db645db4  1976-08-28 00:00:00.000000   \n",
            "1  8a858f085a477386015a47fb049e49ca  1978-06-23 00:00:00.000000   \n",
            "2  8a858e6f5cd5e874015cd6f5634c39ad  1984-04-04 00:00:00.000000   \n",
            "3  8a858e9d5bfd7037015bfdab79f61305  1983-05-28 00:00:00.000000   \n",
            "4  8a858fde56eb02280156eb6dafc128ac  1982-03-29 00:00:00.000000   \n",
            "\n",
            "  bank_account_type  longitude_gps  latitude_gps bank_name_clients  \\\n",
            "0           Savings       5.296628      7.593965     Heritage Bank   \n",
            "1           Savings       3.294513      6.596602               UBA   \n",
            "2           Savings       8.501912      7.729364        First Bank   \n",
            "3           Savings       3.318904      6.681595               UBA   \n",
            "4           Savings       6.354624      4.949031        First Bank   \n",
            "\n",
            "  bank_branch_clients employment_status_clients level_of_education_clients  \n",
            "0                 NaN                 Permanent                        NaN  \n",
            "1                 NaN                 Permanent                        NaN  \n",
            "2                 NaN                 Permanent                        NaN  \n",
            "3                 NaN                 Permanent                        NaN  \n",
            "4                 NaN             Self-Employed                        NaN  \n"
          ]
        }
      ]
    },
    {
      "cell_type": "code",
      "source": [
        "data_one = pd.read_csv('/content/drive/MyDrive/Classroom/loan_data/testperf.csv')\n",
        "print(data_one.head())"
      ],
      "metadata": {
        "colab": {
          "base_uri": "https://localhost:8080/"
        },
        "id": "VHEkM9iX-jNt",
        "outputId": "db183fc9-4cf0-4ad9-e0a9-ba983be820ae"
      },
      "execution_count": 5,
      "outputs": [
        {
          "output_type": "stream",
          "name": "stdout",
          "text": [
            "                         customerid  systemloanid  loannumber approveddate  \\\n",
            "0  8a858899538ddb8e015390510b321f08     301998974           4      40:48.0   \n",
            "1  8a858959537a097401537a4e316e25f7     301963615          10      43:40.0   \n",
            "2  8a8589c253ace09b0153af6ba58f1f31     301982236           6      15:11.0   \n",
            "3  8a858e095aae82b7015aae86ca1e030b     301971730           8      00:54.0   \n",
            "4  8a858e225a28c713015a30db5c48383d     301959177           4      04:33.0   \n",
            "\n",
            "  creationdate  loanamount  totaldue  termdays referredby  \n",
            "0      39:35.0       10000   12250.0        30        NaN  \n",
            "1      42:34.0       40000   44000.0        30        NaN  \n",
            "2      15:04.0       20000   24500.0        30        NaN  \n",
            "3      00:49.0       30000   34500.0        30        NaN  \n",
            "4      04:27.0       20000   24500.0        30        NaN  \n"
          ]
        }
      ]
    },
    {
      "cell_type": "code",
      "source": [
        "data_two = pd.read_csv('/content/drive/MyDrive/Classroom/loan_data/testprevloans.csv')\n",
        "print(data_two.head())"
      ],
      "metadata": {
        "colab": {
          "base_uri": "https://localhost:8080/"
        },
        "id": "0tFrVPbf-ldS",
        "outputId": "20d70570-0446-4dce-a33e-abf422120b55"
      },
      "execution_count": 6,
      "outputs": [
        {
          "output_type": "stream",
          "name": "stdout",
          "text": [
            "                         customerid  systemloanid  loannumber  \\\n",
            "0  8a858899538ddb8e015390510b321f08     301621635           3   \n",
            "1  8a858959537a097401537a4e316e25f7     301810201           5   \n",
            "2  8a858959537a097401537a4e316e25f7     301831255           6   \n",
            "3  8a8589c253ace09b0153af6ba58f1f31     301627292           3   \n",
            "4  8a8589c253ace09b0153af6ba58f1f31     301621095           2   \n",
            "\n",
            "                 approveddate                creationdate  loanamount  \\\n",
            "0  2016-05-17 10:37:00.000000  2016-05-17 09:36:55.000000     10000.0   \n",
            "1  2017-02-04 21:28:59.000000  2017-02-04 20:28:52.000000     30000.0   \n",
            "2  2017-03-04 10:28:22.000000  2017-03-04 09:28:16.000000     30000.0   \n",
            "3  2016-06-02 14:27:14.000000  2016-06-02 13:27:08.000000     10000.0   \n",
            "4  2016-05-16 09:13:12.000000  2016-05-16 08:13:04.000000     10000.0   \n",
            "\n",
            "   totaldue  termdays                  closeddate referredby  \\\n",
            "0   13000.0        30  2016-06-17 00:04:15.000000        NaN   \n",
            "1   36800.0        60  2017-03-02 16:22:58.000000        NaN   \n",
            "2   34400.0        30  2017-04-02 00:44:24.000000        NaN   \n",
            "3   13000.0        30  2016-07-04 11:34:04.000000        NaN   \n",
            "4   11500.0        15  2016-06-02 00:02:58.000000        NaN   \n",
            "\n",
            "                 firstduedate             firstrepaiddate  \n",
            "0  2016-06-16 00:00:00.000000  2016-06-16 15:44:08.000000  \n",
            "1  2017-03-06 00:00:00.000000  2017-03-02 16:07:47.000000  \n",
            "2  2017-04-03 00:00:00.000000  2017-04-01 21:29:46.000000  \n",
            "3  2016-07-04 00:00:00.000000  2016-07-04 11:19:01.000000  \n",
            "4  2016-05-31 00:00:00.000000  2016-06-01 15:22:34.000000  \n"
          ]
        }
      ]
    },
    {
      "cell_type": "code",
      "source": [
        "print(data.tail())"
      ],
      "metadata": {
        "id": "_sA_FM4AAh_U",
        "outputId": "97e0dc74-bfd5-46fc-f20d-6654d0597807",
        "colab": {
          "base_uri": "https://localhost:8080/"
        }
      },
      "execution_count": 7,
      "outputs": [
        {
          "output_type": "stream",
          "name": "stdout",
          "text": [
            "                            customerid                   birthdate  \\\n",
            "1482  8a858fc25bafabdc015bb47fda0323e5  1976-04-13 00:00:00.000000   \n",
            "1483  8a858e245c214660015c3397e4db389a  1990-10-24 00:00:00.000000   \n",
            "1484  8a858e8b5bc9e7e6015bcd7374077f0c  1988-06-12 00:00:00.000000   \n",
            "1485  8a858f2e5c699f3a015c77aa22ed7f23  1974-03-23 00:00:00.000000   \n",
            "1486  8a858fde580afd48015818eda53830c8  1987-02-16 00:00:00.000000   \n",
            "\n",
            "     bank_account_type  longitude_gps  latitude_gps bank_name_clients  \\\n",
            "1482           Savings       3.481190      6.442728           GT Bank   \n",
            "1483           Savings       4.738209      8.179723           GT Bank   \n",
            "1484           Savings       3.424825      6.455802        First Bank   \n",
            "1485           Savings       3.318851      7.113212              FCMB   \n",
            "1486           Savings       3.372462      6.563372      Stanbic IBTC   \n",
            "\n",
            "     bank_branch_clients employment_status_clients level_of_education_clients  \n",
            "1482                 NaN                 Permanent                        NaN  \n",
            "1483                 NaN                 Permanent                        NaN  \n",
            "1484                 NaN                 Permanent                        NaN  \n",
            "1485                 NaN                 Permanent                        NaN  \n",
            "1486                 NaN                 Permanent                   Graduate  \n"
          ]
        }
      ]
    },
    {
      "cell_type": "code",
      "source": [
        "data.dtypes"
      ],
      "metadata": {
        "id": "-QlG08uKC3su",
        "outputId": "995fcaa4-0f10-4784-a8fd-d6df56424408",
        "colab": {
          "base_uri": "https://localhost:8080/"
        }
      },
      "execution_count": 8,
      "outputs": [
        {
          "output_type": "execute_result",
          "data": {
            "text/plain": [
              "customerid                     object\n",
              "birthdate                      object\n",
              "bank_account_type              object\n",
              "longitude_gps                 float64\n",
              "latitude_gps                  float64\n",
              "bank_name_clients              object\n",
              "bank_branch_clients            object\n",
              "employment_status_clients      object\n",
              "level_of_education_clients     object\n",
              "dtype: object"
            ]
          },
          "metadata": {},
          "execution_count": 8
        }
      ]
    },
    {
      "cell_type": "code",
      "source": [
        "# data.info"
      ],
      "metadata": {
        "id": "VtLcZ7S1DCsg"
      },
      "execution_count": 9,
      "outputs": []
    },
    {
      "cell_type": "code",
      "source": [
        "data.shape"
      ],
      "metadata": {
        "id": "zEc-jDS-D8s2",
        "outputId": "37a240ec-f410-457f-b47e-92c1dd01c49a",
        "colab": {
          "base_uri": "https://localhost:8080/"
        }
      },
      "execution_count": 10,
      "outputs": [
        {
          "output_type": "execute_result",
          "data": {
            "text/plain": [
              "(1487, 9)"
            ]
          },
          "metadata": {},
          "execution_count": 10
        }
      ]
    },
    {
      "cell_type": "code",
      "source": [
        "data.isnull().sum()"
      ],
      "metadata": {
        "id": "1q3xn-qhEHtj",
        "outputId": "209858d3-dbde-494d-f926-2906d1a534ed",
        "colab": {
          "base_uri": "https://localhost:8080/"
        }
      },
      "execution_count": 11,
      "outputs": [
        {
          "output_type": "execute_result",
          "data": {
            "text/plain": [
              "customerid                       0\n",
              "birthdate                        0\n",
              "bank_account_type                0\n",
              "longitude_gps                    0\n",
              "latitude_gps                     0\n",
              "bank_name_clients                0\n",
              "bank_branch_clients           1473\n",
              "employment_status_clients      217\n",
              "level_of_education_clients    1277\n",
              "dtype: int64"
            ]
          },
          "metadata": {},
          "execution_count": 11
        }
      ]
    },
    {
      "cell_type": "code",
      "source": [
        "data_dup = data.duplicated().any()\n",
        "data_dup"
      ],
      "metadata": {
        "id": "JWYTj4_fHV2r",
        "outputId": "5f8a9334-8f76-451c-92d6-936a8b725f3f",
        "colab": {
          "base_uri": "https://localhost:8080/"
        }
      },
      "execution_count": 12,
      "outputs": [
        {
          "output_type": "execute_result",
          "data": {
            "text/plain": [
              "True"
            ]
          },
          "metadata": {},
          "execution_count": 12
        }
      ]
    },
    {
      "cell_type": "code",
      "source": [
        "dup_count = data.duplicated().sum()\n",
        "dup_count"
      ],
      "metadata": {
        "id": "AyuC2YIvIJjB",
        "outputId": "3972b354-9b24-4b33-8646-277633e78ae2",
        "colab": {
          "base_uri": "https://localhost:8080/"
        }
      },
      "execution_count": 13,
      "outputs": [
        {
          "output_type": "execute_result",
          "data": {
            "text/plain": [
              "3"
            ]
          },
          "metadata": {},
          "execution_count": 13
        }
      ]
    },
    {
      "cell_type": "code",
      "source": [
        "data = data.drop_duplicates()"
      ],
      "metadata": {
        "id": "nXIHr1JuIRRP"
      },
      "execution_count": 14,
      "outputs": []
    },
    {
      "cell_type": "code",
      "source": [
        "data.shape"
      ],
      "metadata": {
        "id": "1OWc32_1IXA3",
        "outputId": "e0d2fb02-2bc8-49bb-e53e-fdf039520bcb",
        "colab": {
          "base_uri": "https://localhost:8080/"
        }
      },
      "execution_count": 15,
      "outputs": [
        {
          "output_type": "execute_result",
          "data": {
            "text/plain": [
              "(1484, 9)"
            ]
          },
          "metadata": {},
          "execution_count": 15
        }
      ]
    },
    {
      "cell_type": "code",
      "source": [
        "dup_count = data.duplicated().sum()"
      ],
      "metadata": {
        "id": "MYETpmeEIcRL"
      },
      "execution_count": 16,
      "outputs": []
    },
    {
      "cell_type": "code",
      "source": [
        "data = data.drop(columns=['bank_branch_clients'])"
      ],
      "metadata": {
        "id": "D4Umh9RHIjBt"
      },
      "execution_count": 17,
      "outputs": []
    },
    {
      "cell_type": "code",
      "source": [
        "data.shape"
      ],
      "metadata": {
        "id": "9hJVS1v9I6LT",
        "outputId": "782cb311-a2cf-4e25-9155-6ccc639dc8f0",
        "colab": {
          "base_uri": "https://localhost:8080/"
        }
      },
      "execution_count": 18,
      "outputs": [
        {
          "output_type": "execute_result",
          "data": {
            "text/plain": [
              "(1484, 8)"
            ]
          },
          "metadata": {},
          "execution_count": 18
        }
      ]
    },
    {
      "cell_type": "code",
      "source": [
        "print(data.head())"
      ],
      "metadata": {
        "id": "7Z3fcMoaJnw_",
        "outputId": "1440754b-d9eb-4a8f-8ce8-41f9ac252c25",
        "colab": {
          "base_uri": "https://localhost:8080/"
        }
      },
      "execution_count": 19,
      "outputs": [
        {
          "output_type": "stream",
          "name": "stdout",
          "text": [
            "                         customerid                   birthdate  \\\n",
            "0  8a858f305c8dd672015c93b1db645db4  1976-08-28 00:00:00.000000   \n",
            "1  8a858f085a477386015a47fb049e49ca  1978-06-23 00:00:00.000000   \n",
            "2  8a858e6f5cd5e874015cd6f5634c39ad  1984-04-04 00:00:00.000000   \n",
            "3  8a858e9d5bfd7037015bfdab79f61305  1983-05-28 00:00:00.000000   \n",
            "4  8a858fde56eb02280156eb6dafc128ac  1982-03-29 00:00:00.000000   \n",
            "\n",
            "  bank_account_type  longitude_gps  latitude_gps bank_name_clients  \\\n",
            "0           Savings       5.296628      7.593965     Heritage Bank   \n",
            "1           Savings       3.294513      6.596602               UBA   \n",
            "2           Savings       8.501912      7.729364        First Bank   \n",
            "3           Savings       3.318904      6.681595               UBA   \n",
            "4           Savings       6.354624      4.949031        First Bank   \n",
            "\n",
            "  employment_status_clients level_of_education_clients  \n",
            "0                 Permanent                        NaN  \n",
            "1                 Permanent                        NaN  \n",
            "2                 Permanent                        NaN  \n",
            "3                 Permanent                        NaN  \n",
            "4             Self-Employed                        NaN  \n"
          ]
        }
      ]
    },
    {
      "cell_type": "code",
      "source": [
        "arr1 = data['customerid'].to_numpy()\n",
        "arr2 = data_two['customerid'].to_numpy()"
      ],
      "metadata": {
        "id": "W73x7wn2DcZN"
      },
      "execution_count": 20,
      "outputs": []
    },
    {
      "cell_type": "code",
      "source": [
        "intersection = np.intersect1d(arr1, arr2)"
      ],
      "metadata": {
        "id": "R3TyOT_ZEN5L"
      },
      "execution_count": 21,
      "outputs": []
    },
    {
      "cell_type": "code",
      "source": [
        "print(intersection)"
      ],
      "metadata": {
        "id": "4E9Y3u5QEdoY",
        "outputId": "be9a8555-408c-42ac-f8d5-35dea6a1cff9",
        "colab": {
          "base_uri": "https://localhost:8080/"
        }
      },
      "execution_count": 22,
      "outputs": [
        {
          "output_type": "stream",
          "name": "stdout",
          "text": [
            "['8a85881053bc33670153c79e8e84571a' '8a85881053bc33670153c7a0e6ee582e'\n",
            " '8a85881a5420ebf101543716beee1039' '8a85883353e2e4e40153eca57a9855c6'\n",
            " '8a85884e548fad6501549e6d40590168' '8a858887545183ca015458c977db7bd2'\n",
            " '8a85888c54be35040154c75baed346d0' '8a858899538ddb8e01539042374a1e26'\n",
            " '8a8588c2546bf759015471842d602473' '8a8588d653a915270153ab10232e304f'\n",
            " '8a8588dc5384a05f01539a4fbd8e1f5d' '8a8588dd54be35520154c92031650de4'\n",
            " '8a8588f35438fe1201544910ded312f7' '8a8588f5542eb0d4015436389126718b'\n",
            " '8a8588f754a058cb0154bb6c773d1bbb' '8a8588fd53c244bc0153c77b6b9e691b'\n",
            " '8a8588fd53f1099e0154046cf0b95f16' '8a8589045384bd8301538f539eb13617'\n",
            " '8a8589045384bd830153966de1b77ab3' '8a85891e53ad0e6b0153af3918bb1d28'\n",
            " '8a85891e53ad0e6b0153bde2fece1bef' '8a85892854be331a0154c4bf71841892'\n",
            " '8a85893d53f104eb0154054115f12c61' '8a85893d53f104eb015410ce1d262cdd'\n",
            " '8a85893d542e18bc0154379710d6562c' '8a858966538deb19015391420fe01f59'\n",
            " '8a85896653f0fed20154065bbe063ff7' '8a858970548359cc0154856f47c73b81'\n",
            " '8a858970548359cc0154866750a97482' '8a85897353d85af80153e0106e264de4'\n",
            " '8a8589b0541e21e401541ec02e000ec4' '8a8589b953bc23f70153bcb44fc40b19'\n",
            " '8a8589b953bc23f70153c60c56b21c00' '8a8589c1545181f3015481a6fb827b40'\n",
            " '8a8589c253ace09b0153af6ba58f1f31' '8a8589d7548fb3a801549a62a32e3d5a'\n",
            " '8a8589d754be350e0154bea33f411c02' '8a8589ec54517bf90154682378410694'\n",
            " '8a8589f35451855401545c6aab952f7d' '8a8589f35451855401546bca9c952edb'\n",
            " '8a8589f853f100fb0153fae1900a7f58' '8a858e005c2154c2015c25ecd0760ca2'\n",
            " '8a858e0156b782a10156b81770b82e07' '8a858e0156b782a10156bcdeedd505a3'\n",
            " '8a858e0256b781d80156c19fddb831ee' '8a858e035693e029015696c50f545a8b'\n",
            " '8a858e035693e02901569c2e205d58ac' '8a858e045b495c30015b5317021320fa'\n",
            " '8a858e045cd5b1d6015ce312a2775743' '8a858e0d5aa8e240015aa8e8c383070d'\n",
            " '8a858e0f58afbace0158c909b63e176b' '8a858e0f5c45466f015c541a01a868a1'\n",
            " '8a858e105bd92644015bda5890b251e6' '8a858e105c1c09c8015c1d4a28156d9a'\n",
            " '8a858e1158dc4d830158fabcf67068d0' '8a858e135cb22031015cc0a1aa8e3406'\n",
            " '8a858e165cf9d8e3015cfffb0c61459f' '8a858e17562dc2270156312c4a755edc'\n",
            " '8a858e185b57cc76015b57ee502c112c' '8a858e1a59cbf7460159cfa0e079219d'\n",
            " '8a858e1d5c5a460c015c5e52353154e3' '8a858e1e5a1e6835015a22bbbeca0b24'\n",
            " '8a858e205c21d53a015c2a1bbee92567' '8a858e225a28c713015a30db5c48383d'\n",
            " '8a858e235bd971a4015bd984429906d5' '8a858e245a4f0e47015a5adda94f4429'\n",
            " '8a858e255557edfe015573404b8a167f' '8a858e285c7c7fc9015c7c8c1e040865'\n",
            " '8a858e2c5bd33ac0015bd3680c8b1bad' '8a858e2d565657b101565ae54e5638c1'\n",
            " '8a858e345bd96da8015bdaa8f56d42c1' '8a858e345bd96da8015be325004232e3'\n",
            " '8a858e345bd96da8015be4fad6386f24' '8a858e345bd96da8015be6289d010075'\n",
            " '8a858e345bd96da8015be708cfda2c74' '8a858e345bd96da8015be74e2d845157'\n",
            " '8a858e35589c0ac00158a5b90844229d' '8a858e3654e2a8240154e9fa08b9171e'\n",
            " '8a858e36590808e30159431352ef5f7d' '8a858e36590808e3015947b0870e6c89'\n",
            " '8a858e3c58537338015864369edf2b32' '8a858e3d570f30bb01571db9f99b0254'\n",
            " '8a858e3e5922ba4301593bdd879f6f02' '8a858e3e5922ba430159604e0bc87433'\n",
            " '8a858e3f5b5cecb6015b5d16a740279e' '8a858e435bedeb4f015beefb8a294d30'\n",
            " '8a858e44573d4b3701574dcc81ef0120' '8a858e445add19b4015ae905c37c7b00'\n",
            " '8a858e445cd56553015ce0837e8536e7' '8a858e475c127bce015c16667af86900'\n",
            " '8a858e475c127bce015c1715ca853ccf' '8a858e495bf8527e015bf8a5de842da2'\n",
            " '8a858e495d1e235c015d2cab67f045eb' '8a858e4a5cac6f81015cae46ed034497'\n",
            " '8a858e4b5a94ae68015aa2b2bc5941b4' '8a858e515b38f839015b39083e321384'\n",
            " '8a858e5d5c7e25b4015c8196828519c6' '8a858e605ce99f55015cea610eab6542'\n",
            " '8a858e625c8d993a015c944701ea0746' '8a858e625c8d993a015c9bf9278c32f7'\n",
            " '8a858e6458625423015864d7a62e6785' '8a858e655a047d1a015a17be58262943'\n",
            " '8a858e675a3bef15015a3c06da560bdd' '8a858e675b00c831015b06776ce75e69'\n",
            " '8a858e675c3fe0a1015c44ba8a037fee' '8a858e685c217d36015c27c78514225b'\n",
            " '8a858e69566ae5b80156711deca24df3' '8a858e69566ae5b801568eb3041a121a'\n",
            " '8a858e69566ae5b801568fe0bb8a4fd0' '8a858e69566ae5b8015690272e3553fa'\n",
            " '8a858e695775665c015779a1a5cc1192' '8a858e6a5bfd4b54015c0065e2c6050f'\n",
            " '8a858e6b5d1885ce015d1894c8620d20' '8a858e6c5c88d145015c97ee34d02391'\n",
            " '8a858e6c5c88d145015ca0b1c8b17bd8' '8a858e6f5668e01701567d90922848d5'\n",
            " '8a858e6f5668e01701568dc4c95e13d0' '8a858e705b3a03c7015b3c16c087774f'\n",
            " '8a858e705cb15527015cbfa1139f5368' '8a858e725c360240015c3710db1f3e44'\n",
            " '8a858e725cf420fd015cf437db121438' '8a858e735b86c5e6015b86ca110b0353'\n",
            " '8a858e735c5a4bed015c5b4894e42483' '8a858e775b10631f015b1099fea22372'\n",
            " '8a858e775c362114015c3ac335ce7f57' '8a858e79568ec7de0156931b1c6d3ab0'\n",
            " '8a858e7c588604a401589940135a58fd' '8a858e7d5b591490015b59618de419b4'\n",
            " '8a858e875b910dfe015b9a75f78739f7' '8a858e875c63d395015c6f115be54028'\n",
            " '8a858e875cfa37f5015d0d0f292e04c9' '8a858e8d56b784480156b8dfa2c27373'\n",
            " '8a858e8d56b784480156c5f1019357de' '8a858e8d56b784480156c74508a36a02'\n",
            " '8a858e8d5d41c5fd015d45762a6400db' '8a858e8f5d41c974015d464347443fae'\n",
            " '8a858e905a8fc7af015a903b5fb63073' '8a858e9156e137c60156e5e9f9d85b38'\n",
            " '8a858e9156e137c601570163db4358c9' '8a858e935cedfe55015cee23feae1e84'\n",
            " '8a858e945bfdb9e7015c0cbdf40d05b6' '8a858e965b5e1b91015b60d410a170e9'\n",
            " '8a858e9b5bcf8546015bd34d1f801a05' '8a858e9f59d692440159da7307f4464e'\n",
            " '8a858ea15c884829015c8c27adb903b4' '8a858ea555d9e6020155efaba6540a82'\n",
            " '8a858ea55ac1546c015ac2b3547711f0' '8a858ea8580b1fee015814d9ce7f41ec'\n",
            " '8a858eab5cf9c4c8015d030ef0336efa' '8a858eab5cf9c4c8015d03737a977738'\n",
            " '8a858eac5ad81473015adb5e13740d62' '8a858eae5c356262015c3575c5b40c22'\n",
            " '8a858eb4588604f70158863ec5720ce8' '8a858eb554d4ccaf0154de19c1281f9d'\n",
            " '8a858eb55b24c7b8015b24d6095c0c46' '8a858eb95b3ed48c015b3f2be5056fcd'\n",
            " '8a858eba5591bf28015596e245a341ea' '8a858eba5c884d2a015c89bb147c054e'\n",
            " '8a858eba5c884d2a015c9795b92e7801' '8a858ebc5b43210a015b4326f173080e'\n",
            " '8a858ebd5b254c8b015b2ebaaf2652a7' '8a858ebd5b254c8b015b2f8ebbc96477'\n",
            " '8a858ec75c11a07a015c16a2289b4fa7' '8a858ec9590ad35d01592b20868f2736'\n",
            " '8a858ec95afc0922015aff4399e77a12' '8a858ec95afc0922015aff7d927011fb'\n",
            " '8a858ec95afc0922015b080cc25e41f8' '8a858ec95afc0922015b0edc17e34984'\n",
            " '8a858ed25bf83782015bfb7756f4006e' '8a858ed55c63db54015c68298dce5e26'\n",
            " '8a858ed55c63db54015c6e0859c72f24' '8a858ed55c63db54015c6f9d253b5be9'\n",
            " '8a858eda552adcc201554a43790937ed' '8a858edc59e0d8f70159eba2590759b5'\n",
            " '8a858edc5ceea2e6015ceea77c5c0300' '8a858ee0564adc5001565b13d2465aea'\n",
            " '8a858ee05a6b7d75015a6c9816c25449' '8a858ee05a6b7d75015a6f9509d049af'\n",
            " '8a858ee25b34d796015b380aa54b5f73' '8a858ee45b39aa80015b3d8b581e6281'\n",
            " '8a858ee55cb156e6015cc16bd9852bb8' '8a858ee755a0c84a0155a77bd775235f'\n",
            " '8a858ee758b4c54a0158b7b47c784cda' '8a858ee9587f44aa01588138339b0769'\n",
            " '8a858eee58727169015877060b15540c' '8a858ef255c55fd60155daa40f514312'\n",
            " '8a858ef25c8393f8015c83fa6fe71cbc' '8a858ef25c8393f8015c873e2c443d27'\n",
            " '8a858ef358d4a48e0158e97fe129792e' '8a858ef45be99ccb015bebccaa063f88'\n",
            " '8a858ef45be99ccb015bec00e8ff5383' '8a858ef85a613c85015a684e546a4e82'\n",
            " '8a858efd5b39cf3d015b3cb3b3882cc7' '8a858efe5bca0a81015bcafa92f72787'\n",
            " '8a858f0056b7cf8e0156b8918d424613' '8a858f005b396e23015b397635140a37'\n",
            " '8a858f005b396e23015b3977901b0c51' '8a858f005b396e23015b397ce2dc1159'\n",
            " '8a858f005cc5df15015cc5eb75d00970' '8a858f03582604ff01582a09d5a32c12'\n",
            " '8a858f045556eaa4015568356b2d414c' '8a858f045bc9690c015bca51755455a1'\n",
            " '8a858f055b15b8d3015b168707084a4b' '8a858f075cee6786015ceeb680a533f4'\n",
            " '8a858f08582a51bc01582a7123560822' '8a858f085cf4e173015cf7d609e2007a'\n",
            " '8a858f0a5bf2ed17015bf34ffdf132c9' '8a858f0a5bf3716c015bf60d479e6efd'\n",
            " '8a858f0b5c595029015c598f160d2495' '8a858f0c5ca18b3d015ca194f4a60867'\n",
            " '8a858f0c5cc68025015cc6e912161dc0' '8a858f105a4ed440015a51ffebd57187'\n",
            " '8a858f115cea8545015cee54a7486425' '8a858f165c1c22df015c20a6b4162cc3'\n",
            " '8a858f195a374aff015a374cdbbb01a4' '8a858f1b5b9136f7015b9f4034a8207d'\n",
            " '8a858f1f5c834d4f015c872619d66fd2' '8a858f225b3dc49e015b3de052f52204'\n",
            " '8a858f235b8bf5bc015b8bfee8ee084c' '8a858f25584470aa01584da2a1db5663'\n",
            " '8a858f255cb1710a015cc3e7f142101c' '8a858f2656e154de0156eba07ec86e98'\n",
            " '8a858f265c2187bd015c21d5f78413fc' '8a858f265c2187bd015c298ca7e642cc'\n",
            " '8a858f265cfa1a64015cffd360cf3f7b' '8a858f2756cec0a30156e76c4e6f6163'\n",
            " '8a858f275a8e994e015a8ebcf96914e1' '8a858f275c451af5015c50cf80457196'\n",
            " '8a858f295c8d307f015c9cee64412197' '8a858f295c8d307f015c9d627df260c1'\n",
            " '8a858f2c585375f00158678b108144f8' '8a858f2c58dc6e680158dd8af7761f24'\n",
            " '8a858f2c59cb2d550159cb54fa96143e' '8a858f2d5853901a01585dcf769f26de'\n",
            " '8a858f2e5c699f3a015c7405e386784e' '8a858f2e5cd09481015cd3d378cd0b38'\n",
            " '8a858f30551130db0155158c6aea0483' '8a858f305c8dd672015c93b1db645db4'\n",
            " '8a858f305c8dd672015c97a940a24715' '8a858f305c8dd672015c9b6de9735c21'\n",
            " '8a858f305cb1ec4e015cc075bf43795e' '8a858f3159f585d30159f87d1a2877db'\n",
            " '8a858f3355ae6a610155c4dcf6ab573c' '8a858f3355ae6a610155c583cc8e034d'\n",
            " '8a858f345ad253d6015ad260db8c0a81' '8a858f375b493337015b56c4ef7a4e0c'\n",
            " '8a858f385b866e4f015b86abb1173999' '8a858f3a58a6d6720158aa1561f233c0'\n",
            " '8a858f3b5c1c5a08015c1c6897ac062b' '8a858f3c5c16cadb015c1a134d3c0c7a'\n",
            " '8a858f3e5885ffa301588ccdf1b437ef' '8a858f435ad25c25015ad29e0ad52b72'\n",
            " '8a858f465668e3d6015673c90e483f44' '8a858f465668e3d6015674d9567a2c56'\n",
            " '8a858f465668e3d601567dc3f5970090' '8a858f465668e3d601568dd071503445'\n",
            " '8a858f4f59f4ed130159f50d47b117a0' '8a858f535908095c01592c4a9576186c'\n",
            " '8a858f535d325481015d3593ac7e0cb3' '8a858f54592214a0015926bce60f2108'\n",
            " '8a858f555cacacdf015cafcc2c1c7105' '8a858f5659bc0eea0159c6f4b9ab6a80'\n",
            " '8a858f565b683b56015b68bf1d44335d' '8a858f565b683b56015b7357f31e7569'\n",
            " '8a858f565b683b56015b77d6c4b14751' '8a858f565b683b56015b7ad54ddc7f78'\n",
            " '8a858f585cf9d48b015cf9ee030e10ad' '8a858f595ccb6f86015cce7333856062'\n",
            " '8a858f595d1387e8015d149bd8e57256' '8a858f5a57519e4801576b2bd3284e9c'\n",
            " '8a858f5b5bee1b11015bf1b4ffea5abb' '8a858f5b5bee1b11015bf1f46fee071a'\n",
            " '8a858f5e5566567d015577a80b01201e' '8a858f5f55f9698c0156028d5ba328e7'\n",
            " '8a858f60560bc43d01561c8fb7ea6af5' '8a858f615591c2cc0155965e44ff3633'\n",
            " '8a858f625b43c0a1015b43e9175e3c65' '8a858f625c5a3697015c5ac8f5e332b1'\n",
            " '8a858f625c5a3697015c5e1307347932' '8a858f665c2142a0015c2cf209e20a6f'\n",
            " '8a858f685b5dadef015b5daef51a007e' '8a858f6b570f2de901572981cca506b5'\n",
            " '8a858f6c570f2d6601570f4637b10cbc' '8a858f6e5b1a4fd0015b1a555f54042b'\n",
            " '8a858f6e5cb16eb9015cb7fd2766646d' '8a858f7057b918e40157bd8c8a8e6ec1'\n",
            " '8a858f725b49c0c0015b520763bc7ee4' '8a858f735aec46c4015aece4cfa14726'\n",
            " '8a858f735b437619015b439524ec306f' '8a858f755af1caee015af206036c172c'\n",
            " '8a858f7c5ad29e0f015ad2ac49010f4d' '8a858f7c5be8dc45015be8e136700347'\n",
            " '8a858f7c5ccaf06d015ccb09b0070f34' '8a858f7d5578012a015579e9cfd56f51'\n",
            " '8a858f875cedcb03015cedea256e1bd5' '8a858f88578ad68901578bd0502a216a'\n",
            " '8a858f8a5b146b08015b14807b6c1308' '8a858f8d5c82ba66015c8316bc8a3607'\n",
            " '8a858f8e5c5f46fc015c633244a35e89' '8a858f8f5bfd3cfa015c0cec47c055f1'\n",
            " '8a858f905c06a9c0015c06db624d043e' '8a858f935b8753e6015b8a360b650064'\n",
            " '8a858f965bb63a25015bbb3c90f07658' '8a858f965bc8e421015bcc66b05e5967'\n",
            " '8a858f975c4582c4015c468f7f4f4e9a' '8a858f975c4582c4015c5379bebc030a'\n",
            " '8a858f98560bbe1101560db94d740f06' '8a858f985bee01cb015bee649b4f3611'\n",
            " '8a858f9c5a4817be015a486238ca1a96' '8a858f9d5a4ceb8f015a4d4dd6f0284e'\n",
            " '8a858f9f5679951a01567bdd5d0776da' '8a858fa05c82907b015c82bc5d911e17'\n",
            " '8a858fa1581f869601582023dd373106' '8a858fa158f8ee8f0158ff1bb2b747e1'\n",
            " '8a858fa25bd92c20015be50d818f1890' '8a858fa4552add9f01555355c66043ac'\n",
            " '8a858fa55776f0470157799aa4b33da8' '8a858fa859a7641e0159a9122c3c61b5'\n",
            " '8a858fab5b9105dc015b9e2f0f40784b' '8a858fab5cd5e1a7015cd9c3b9ae0f29'\n",
            " '8a858fab5cd5e1a7015cde28b9f37db3' '8a858fab5cd5e1a7015cdf590c9d1f59'\n",
            " '8a858faf5679a838015679c459720d76' '8a858faf5679a838015685e32ce57cb0'\n",
            " '8a858faf56b7821c0156cbb2b12c07a8' '8a858faf56b7821c0156cdaa248222fd'\n",
            " '8a858fb15b34a708015b361f8b9921bd' '8a858fb4563228d201563d09846204bd'\n",
            " '8a858fb959b6dfec0159b700765e15e7' '8a858fb95bd896cc015bd8a775a70c54'\n",
            " '8a858fba570ca86401570e9e31230e2e' '8a858fbc594a495c01595fadf4a023e6'\n",
            " '8a858fbc5cc666c8015cc96695e50338' '8a858fc15b68ba6a015b7364beb20e51'\n",
            " '8a858fc25bafabdc015bb016ef44386e' '8a858fc35b347bd4015b34bbb0e15271'\n",
            " '8a858fc35b347bd4015b34c1a0db575f' '8a858fc45c21da6f015c3087c36d6234'\n",
            " '8a858fc45c5f93be015c63842ca27543' '8a858fc55a85c4fc015a88ddb3041731'\n",
            " '8a858fc65c7e0e55015c7f8126b8672a' '8a858fc959bb192f0159bb26fbe70c82'\n",
            " '8a858fcb5c11f481015c16739d933978' '8a858fcb5ca240f7015ca5ca808f4285'\n",
            " '8a858fcc5ab942ce015ac02f026e2d48' '8a858fcc5cf4a563015cf569a33249a9'\n",
            " '8a858fcd5cc5594e015cc57021210c21' '8a858fcf5b39c3ba015b3d6d077c4383'\n",
            " '8a858fcf5b39c3ba015b3d9f215c3922' '8a858fd05bf22b18015bf25758ea1c9e'\n",
            " '8a858fd05bfd7d3c015bfe43473d3c9d' '8a858fd05bfd7d3c015c0239684a5349'\n",
            " '8a858fd25a1dc72f015a1dcba1230448' '8a858fd35b441894015b4420f53b0fcb'\n",
            " '8a858fd75bc96a6f015bcab7caf06c3f' '8a858fd85b685607015b6cf937f232be'\n",
            " '8a858fda5c1bd1f7015c1be7f7450f37' '8a858fde56eb02280156eb6dafc128ac'\n",
            " '8a858fe05cac0c84015cac4f5c9a28b2' '8a858fe35cd0edad015cd3df1c295c30'\n",
            " '8a858fe55656a93801565ad4976f225f' '8a858fe5569398920156986fc0337f88'\n",
            " '8a858fe55b013a0b015b0b5996ce4111' '8a858fe756939bbb0156b1159291111a'\n",
            " '8a858fe758dc437a0159018589dc5df0' '8a858fe8555f401f015572a171e745ed'\n",
            " '8a858feb58c565cf0158d11c49895721' '8a858fed5a28bf0e015a2a1969814dc1'\n",
            " '8a858fee5863a04901586977ceb769d2' '8a858fee5863a04901586c7547896071'\n",
            " '8a858fee5aaeb536015ab028da65651f' '8a858ff05d128e7c015d12a0962e0c8d'\n",
            " '8a858ff35c1ada43015c1ae99d830a0b' '8a858ff35c63d750015c63dbb45e027c'\n",
            " '8a858ff35c63d750015c6939de7f2388' '8a858ff45be92ea2015be968b94e1872'\n",
            " '8a858ff554e290e10155065b5ba54cce' '8a858ff8582fcb8601583ef69ee437b2'\n",
            " '8a858ff9580b881201581e41fa95467b' '8a858ffa55ca72a50155d49947914143'\n",
            " '8a858ffd5b391849015b392ab12c145c' '8a858ffd5c8d343d015c8f02ce3004ad'\n",
            " '8a858ffd5caca417015cacdb354a2364' '8aab10f748cf78ff0148d11fac1447a6']\n"
          ]
        }
      ]
    }
  ],
  "metadata": {
    "language_info": {
      "name": "python"
    },
    "colab": {
      "provenance": []
    },
    "kernelspec": {
      "name": "python3",
      "display_name": "Python 3"
    }
  },
  "nbformat": 4,
  "nbformat_minor": 0
}